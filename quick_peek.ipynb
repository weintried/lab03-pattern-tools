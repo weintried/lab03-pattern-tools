{
 "cells": [
  {
   "cell_type": "code",
   "execution_count": null,
   "metadata": {},
   "outputs": [],
   "source": []
  },
  {
   "cell_type": "code",
   "execution_count": 1,
   "metadata": {},
   "outputs": [],
   "source": [
    "def parse_patterns(filename):\n",
    "    patterns = []\n",
    "    \n",
    "    with open(filename, 'r') as f:\n",
    "        num_patterns = int(f.readline().strip())\n",
    "        \n",
    "        for _ in range(num_patterns):\n",
    "            # Skip blank line\n",
    "            f.readline()\n",
    "            \n",
    "            # Read pattern index\n",
    "            pattern_index = int(f.readline().strip())\n",
    "            \n",
    "            # Read edges\n",
    "            edges = []\n",
    "            for _ in range(32):\n",
    "                edge = tuple(map(int, f.readline().strip().split()))\n",
    "                edges.append(edge)\n",
    "            \n",
    "            patterns.append((pattern_index, edges))\n",
    "    \n",
    "    return patterns\n",
    "\n",
    "def find_max_out_degree(patterns):\n",
    "    max_out_degree = 0\n",
    "    max_pattern_idx = -1\n",
    "    max_node = -1\n",
    "    \n",
    "    for pattern_idx, edges in patterns:\n",
    "        # Build adjacency list\n",
    "        graph = {}\n",
    "        \n",
    "        for from_node, to_node in edges:\n",
    "            if from_node not in graph:\n",
    "                graph[from_node] = set()\n",
    "            graph[from_node].add(to_node)  # Using set to avoid duplicate edges\n",
    "        \n",
    "        # Find max out degree in this pattern\n",
    "        for node, neighbors in graph.items():\n",
    "            out_degree = len(neighbors)\n",
    "            if out_degree > max_out_degree:\n",
    "                max_out_degree = out_degree\n",
    "                max_pattern_idx = pattern_idx\n",
    "                max_node = node\n",
    "    \n",
    "    return max_out_degree, max_pattern_idx, max_node"
   ]
  },
  {
   "cell_type": "code",
   "execution_count": 2,
   "metadata": {},
   "outputs": [
    {
     "name": "stdout",
     "output_type": "stream",
     "text": [
      "Maximum number of subsequent nodes: 15\n",
      "Found in pattern 37, node 0\n"
     ]
    }
   ],
   "source": [
    "filename = \"input.txt\"\n",
    "patterns = parse_patterns(filename)\n",
    "max_degree, pattern_idx, node = find_max_out_degree(patterns)\n",
    "\n",
    "print(f\"Maximum number of subsequent nodes: {max_degree}\")\n",
    "print(f\"Found in pattern {pattern_idx}, node {node}\")"
   ]
  }
 ],
 "metadata": {
  "kernelspec": {
   "display_name": "env",
   "language": "python",
   "name": "python3"
  },
  "language_info": {
   "codemirror_mode": {
    "name": "ipython",
    "version": 3
   },
   "file_extension": ".py",
   "mimetype": "text/x-python",
   "name": "python",
   "nbconvert_exporter": "python",
   "pygments_lexer": "ipython3",
   "version": "3.12.3"
  }
 },
 "nbformat": 4,
 "nbformat_minor": 2
}
